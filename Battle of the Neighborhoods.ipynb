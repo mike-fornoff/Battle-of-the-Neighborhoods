{
 "cells": [
  {
   "cell_type": "markdown",
   "metadata": {},
   "source": [
    "# Introduction\n",
    "\n",
    "##### In a city of your choice, if someone is looking to open a restaurant, where would you recommend that they open it? Similarly, if a contractor is trying to start their own business, where would you recommend that they setup their office?\n",
    "\n",
    "For this assignment we're going to use the former statement in the question above and say that we have a client looking to open a restaurant in Detroit, Michigan, and they want to know the best location for it. We can narrow it down to a radius of 1/2 of a mile (~800m) from the heart of downtown (known as Campus Martius). Let's say this restaurant will be a seafood restaurant. Detroit has a wide variety of restaurants downtown and we'll be doing this research with the help of Foursquare and their vast location dataset on the city and its venues. "
   ]
  },
  {
   "cell_type": "markdown",
   "metadata": {},
   "source": [
    "# Data\n",
    "\n",
    "We'll be using the Foursquare API to request location data that we'll be using similarly to how we've used it in the New York and Toronto assignments. We'll start by specifying our initial location (Campus Martius) and setting our 800m radius, and then exploring the neighborhood for similar restaurants. We'll want to look for an area that has a decent amount of foot traffic and is decently far enough away from other seafood restaurants so the market in one area isn't over-saturated. We should take into consideration the sports arenas, casinos, and other entertainment venues as that will generate the most foot traffic. Main streets are ideal for cars driving by *and* foot traffic, but will most likely be more expensive to rent out. We'll try and find the fairest compromise for a neighborhood and see what the best option will be.\n",
    "\n"
   ]
  },
  {
   "cell_type": "code",
   "execution_count": null,
   "metadata": {},
   "outputs": [],
   "source": []
  }
 ],
 "metadata": {
  "kernelspec": {
   "display_name": "Python 3",
   "language": "python",
   "name": "python3"
  },
  "language_info": {
   "codemirror_mode": {
    "name": "ipython",
    "version": 3
   },
   "file_extension": ".py",
   "mimetype": "text/x-python",
   "name": "python",
   "nbconvert_exporter": "python",
   "pygments_lexer": "ipython3",
   "version": "3.7.3"
  }
 },
 "nbformat": 4,
 "nbformat_minor": 2
}
